{
 "cells": [
  {
   "cell_type": "markdown",
   "id": "2d1b1768",
   "metadata": {},
   "source": [
    "# 📊 Exploratory Data Analysis (EDA) & Preprocessing"
   ]
  },
  {
   "cell_type": "markdown",
   "id": "20f2c271",
   "metadata": {},
   "source": [
    "This notebook performs **data loading, cleaning, and initial exploratory analysis** for the AI-driven predictive maintenance project."
   ]
  },
  {
   "cell_type": "code",
   "execution_count": null,
   "id": "990c92c7",
   "metadata": {},
   "outputs": [],
   "source": [
    "# Import necessary libraries\n",
    "import pandas as pd\n",
    "import numpy as np\n",
    "import matplotlib.pyplot as plt\n",
    "import seaborn as sns\n",
    "import warnings\n",
    "\n",
    "warnings.filterwarnings('ignore')\n",
    "%matplotlib inline"
   ]
  },
  {
   "cell_type": "markdown",
   "id": "fbfc584e",
   "metadata": {},
   "source": [
    "## 1️⃣ Load the Dataset"
   ]
  },
  {
   "cell_type": "code",
   "execution_count": null,
   "id": "de27f67c",
   "metadata": {},
   "outputs": [],
   "source": [
    "# Load dataset (replace with actual dataset)\n",
    "data_path = \"../data/solar_pv_sensor_data.csv\"  # Update with actual path\n",
    "df = pd.read_csv(data_path)\n",
    "\n",
    "# Display first few rows\n",
    "df.head()"
   ]
  },
  {
   "cell_type": "markdown",
   "id": "1957fb9d",
   "metadata": {},
   "source": [
    "## 2️⃣ Data Summary & Missing Values"
   ]
  },
  {
   "cell_type": "code",
   "execution_count": null,
   "id": "7fae5e70",
   "metadata": {},
   "outputs": [],
   "source": [
    "# Check for missing values and basic stats\n",
    "print(\"Dataset Shape:\", df.shape)\n",
    "print(\"Missing Values:\", df.isnull().sum())\n",
    "\n",
    "# Summary statistics\n",
    "df.describe()"
   ]
  },
  {
   "cell_type": "markdown",
   "id": "adaa5fab",
   "metadata": {},
   "source": [
    "## 3️⃣ Correlation Heatmap"
   ]
  },
  {
   "cell_type": "code",
   "execution_count": null,
   "id": "f7858cd0",
   "metadata": {},
   "outputs": [],
   "source": [
    "# Visualizing feature correlations\n",
    "plt.figure(figsize=(10, 6))\n",
    "sns.heatmap(df.corr(), annot=True, cmap='coolwarm', fmt='.2f', linewidths=0.5)\n",
    "plt.title(\"Feature Correlation Heatmap\")\n",
    "plt.show()"
   ]
  },
  {
   "cell_type": "markdown",
   "id": "109e1010",
   "metadata": {},
   "source": [
    "## 4️⃣ Time Series Analysis"
   ]
  },
  {
   "cell_type": "code",
   "execution_count": null,
   "id": "d9231cad",
   "metadata": {},
   "outputs": [],
   "source": [
    "# Example: Plot Energy Output Over Time\n",
    "plt.figure(figsize=(12, 5))\n",
    "plt.plot(df['timestamp'], df['energy_output'], label='Energy Output')\n",
    "plt.xlabel('Time')\n",
    "plt.ylabel('Energy Output (kWh)')\n",
    "plt.title('Energy Output Over Time')\n",
    "plt.legend()\n",
    "plt.xticks(rotation=45)\n",
    "plt.show()"
   ]
  },
  {
   "cell_type": "markdown",
   "id": "f6a283c9",
   "metadata": {},
   "source": [
    "## 5️⃣ Feature Engineering"
   ]
  },
  {
   "cell_type": "code",
   "execution_count": null,
   "id": "cf39b6dd",
   "metadata": {},
   "outputs": [],
   "source": [
    "# Example: Creating new time-based features\n",
    "df['timestamp'] = pd.to_datetime(df['timestamp'])\n",
    "df['hour'] = df['timestamp'].dt.hour\n",
    "df['day_of_week'] = df['timestamp'].dt.dayofweek\n",
    "\n",
    "# Check updated dataframe\n",
    "df.head()"
   ]
  }
 ],
 "metadata": {},
 "nbformat": 4,
 "nbformat_minor": 5
}
